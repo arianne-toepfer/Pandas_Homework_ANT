{
 "metadata": {
  "language_info": {
   "codemirror_mode": {
    "name": "ipython",
    "version": 3
   },
   "file_extension": ".py",
   "mimetype": "text/x-python",
   "name": "python",
   "nbconvert_exporter": "python",
   "pygments_lexer": "ipython3",
   "version": "3.8.5"
  },
  "orig_nbformat": 2,
  "kernelspec": {
   "name": "python385jvsc74a57bd0f07ab894b9635076822cf9dc88d764c45f113ecc638f8081fe35305be141dc21",
   "display_name": "Python 3.8.5 64-bit ('base': conda)"
  }
 },
 "nbformat": 4,
 "nbformat_minor": 2,
 "cells": [
  {
   "cell_type": "code",
   "execution_count": 239,
   "metadata": {},
   "outputs": [],
   "source": [
    "#Setup\n",
    "import pandas as pd "
   ]
  },
  {
   "cell_type": "code",
   "execution_count": 240,
   "metadata": {},
   "outputs": [],
   "source": [
    "#Import CSV\n",
    "csv_file = \"C:/Users/Arianne/Desktop/PythonStuff/Pandas_Homework_ANT/Pandas_Homework_ANT/HeroesOfPymoli/Resources/purchase_data.csv\"\n"
   ]
  },
  {
   "cell_type": "code",
   "execution_count": 241,
   "metadata": {},
   "outputs": [
    {
     "output_type": "execute_result",
     "data": {
      "text/plain": [
       "   Purchase ID             SN  Age Gender  Item ID  \\\n",
       "0            0        Lisim78   20   Male      108   \n",
       "1            1    Lisovynya38   40   Male      143   \n",
       "2            2     Ithergue48   24   Male       92   \n",
       "3            3  Chamassasya86   24   Male      100   \n",
       "4            4      Iskosia90   23   Male      131   \n",
       "\n",
       "                                   Item Name  Price  \n",
       "0  Extraction, Quickblade Of Trembling Hands   3.53  \n",
       "1                          Frenzied Scimitar   1.56  \n",
       "2                               Final Critic   4.88  \n",
       "3                                Blindscythe   3.27  \n",
       "4                                       Fury   1.44  "
      ],
      "text/html": "<div>\n<style scoped>\n    .dataframe tbody tr th:only-of-type {\n        vertical-align: middle;\n    }\n\n    .dataframe tbody tr th {\n        vertical-align: top;\n    }\n\n    .dataframe thead th {\n        text-align: right;\n    }\n</style>\n<table border=\"1\" class=\"dataframe\">\n  <thead>\n    <tr style=\"text-align: right;\">\n      <th></th>\n      <th>Purchase ID</th>\n      <th>SN</th>\n      <th>Age</th>\n      <th>Gender</th>\n      <th>Item ID</th>\n      <th>Item Name</th>\n      <th>Price</th>\n    </tr>\n  </thead>\n  <tbody>\n    <tr>\n      <th>0</th>\n      <td>0</td>\n      <td>Lisim78</td>\n      <td>20</td>\n      <td>Male</td>\n      <td>108</td>\n      <td>Extraction, Quickblade Of Trembling Hands</td>\n      <td>3.53</td>\n    </tr>\n    <tr>\n      <th>1</th>\n      <td>1</td>\n      <td>Lisovynya38</td>\n      <td>40</td>\n      <td>Male</td>\n      <td>143</td>\n      <td>Frenzied Scimitar</td>\n      <td>1.56</td>\n    </tr>\n    <tr>\n      <th>2</th>\n      <td>2</td>\n      <td>Ithergue48</td>\n      <td>24</td>\n      <td>Male</td>\n      <td>92</td>\n      <td>Final Critic</td>\n      <td>4.88</td>\n    </tr>\n    <tr>\n      <th>3</th>\n      <td>3</td>\n      <td>Chamassasya86</td>\n      <td>24</td>\n      <td>Male</td>\n      <td>100</td>\n      <td>Blindscythe</td>\n      <td>3.27</td>\n    </tr>\n    <tr>\n      <th>4</th>\n      <td>4</td>\n      <td>Iskosia90</td>\n      <td>23</td>\n      <td>Male</td>\n      <td>131</td>\n      <td>Fury</td>\n      <td>1.44</td>\n    </tr>\n  </tbody>\n</table>\n</div>"
     },
     "metadata": {},
     "execution_count": 241
    }
   ],
   "source": [
    "# Read Purchasing File and store into Pandas data frame\n",
    "purchase_data = pd.read_csv(csv_file)\n",
    "purchase_data.head()"
   ]
  },
  {
   "source": [
    "##Player Count"
   ],
   "cell_type": "markdown",
   "metadata": {}
  },
  {
   "cell_type": "code",
   "execution_count": 242,
   "metadata": {},
   "outputs": [
    {
     "output_type": "stream",
     "name": "stdout",
     "text": [
      "Total Players: 576\n"
     ]
    }
   ],
   "source": [
    "#Display the total number of players\n",
    "Unique_players=purchase_data['SN'].unique()\n",
    "total_players = len(Unique_players)\n",
    "print(f\"Total Players: {total_players}\")"
   ]
  },
  {
   "source": [
    "##Purchasing Analysis"
   ],
   "cell_type": "markdown",
   "metadata": {}
  },
  {
   "cell_type": "code",
   "execution_count": 243,
   "metadata": {},
   "outputs": [
    {
     "output_type": "execute_result",
     "data": {
      "text/plain": [
       "179"
      ]
     },
     "metadata": {},
     "execution_count": 243
    }
   ],
   "source": [
    "#number of unique items\n",
    "Unique_Items = purchase_data['Item Name'].unique()\n",
    "total_unique_items = len(Unique_Items)\n",
    "total_unique_items"
   ]
  },
  {
   "cell_type": "code",
   "execution_count": 244,
   "metadata": {},
   "outputs": [
    {
     "output_type": "execute_result",
     "data": {
      "text/plain": [
       "3.050987179487176"
      ]
     },
     "metadata": {},
     "execution_count": 244
    }
   ],
   "source": [
    "#Average Price\n",
    "Average_Price = purchase_data['Price'].mean()\n",
    "Average_Price"
   ]
  },
  {
   "cell_type": "code",
   "execution_count": 245,
   "metadata": {},
   "outputs": [
    {
     "output_type": "execute_result",
     "data": {
      "text/plain": [
       "780"
      ]
     },
     "metadata": {},
     "execution_count": 245
    }
   ],
   "source": [
    "#Number of Purchases\n",
    "Total_purchases = len(purchase_data.index)\n",
    "Total_purchases"
   ]
  },
  {
   "cell_type": "code",
   "execution_count": 246,
   "metadata": {},
   "outputs": [
    {
     "output_type": "execute_result",
     "data": {
      "text/plain": [
       "2379.77"
      ]
     },
     "metadata": {},
     "execution_count": 246
    }
   ],
   "source": [
    "#Total Revenue\n",
    "Total_revenue = purchase_data['Price'].sum()\n",
    "Total_revenue"
   ]
  },
  {
   "cell_type": "code",
   "execution_count": 247,
   "metadata": {},
   "outputs": [
    {
     "output_type": "execute_result",
     "data": {
      "text/plain": [
       "   Number of Unique Items  Average Price  Number of Purchases  Total Revenue\n",
       "0                     179       3.050987                  780        2379.77"
      ],
      "text/html": "<div>\n<style scoped>\n    .dataframe tbody tr th:only-of-type {\n        vertical-align: middle;\n    }\n\n    .dataframe tbody tr th {\n        vertical-align: top;\n    }\n\n    .dataframe thead th {\n        text-align: right;\n    }\n</style>\n<table border=\"1\" class=\"dataframe\">\n  <thead>\n    <tr style=\"text-align: right;\">\n      <th></th>\n      <th>Number of Unique Items</th>\n      <th>Average Price</th>\n      <th>Number of Purchases</th>\n      <th>Total Revenue</th>\n    </tr>\n  </thead>\n  <tbody>\n    <tr>\n      <th>0</th>\n      <td>179</td>\n      <td>3.050987</td>\n      <td>780</td>\n      <td>2379.77</td>\n    </tr>\n  </tbody>\n</table>\n</div>"
     },
     "metadata": {},
     "execution_count": 247
    }
   ],
   "source": [
    "#Display the summary data frame for Purchasing Analysis\n",
    "Purchasing_Analysis = pd.DataFrame({\"Number of Unique Items\": [total_unique_items], \"Average Price\": [Average_Price], \"Number of Purchases\": [Total_purchases], \"Total Revenue\":[Total_revenue]})\n",
    "Purchasing_Analysis"
   ]
  },
  {
   "source": [
    "##Gender Demographics"
   ],
   "cell_type": "markdown",
   "metadata": {}
  },
  {
   "cell_type": "code",
   "execution_count": 248,
   "metadata": {},
   "outputs": [
    {
     "output_type": "execute_result",
     "data": {
      "text/plain": [
       "Male                     652\n",
       "Female                   113\n",
       "Other / Non-Disclosed     15\n",
       "Name: Gender, dtype: int64"
      ]
     },
     "metadata": {},
     "execution_count": 248
    }
   ],
   "source": [
    "#Count of Male/Female/Other Players\n",
    "Gender_Count = purchase_data['Gender'].value_counts()\n",
    "Gender_Count"
   ]
  },
  {
   "cell_type": "code",
   "execution_count": 249,
   "metadata": {},
   "outputs": [
    {
     "output_type": "execute_result",
     "data": {
      "text/plain": [
       "                  Gender  Total Count\n",
       "0                   Male          652\n",
       "1                 Female          113\n",
       "2  Other / Non-Disclosed           15"
      ],
      "text/html": "<div>\n<style scoped>\n    .dataframe tbody tr th:only-of-type {\n        vertical-align: middle;\n    }\n\n    .dataframe tbody tr th {\n        vertical-align: top;\n    }\n\n    .dataframe thead th {\n        text-align: right;\n    }\n</style>\n<table border=\"1\" class=\"dataframe\">\n  <thead>\n    <tr style=\"text-align: right;\">\n      <th></th>\n      <th>Gender</th>\n      <th>Total Count</th>\n    </tr>\n  </thead>\n  <tbody>\n    <tr>\n      <th>0</th>\n      <td>Male</td>\n      <td>652</td>\n    </tr>\n    <tr>\n      <th>1</th>\n      <td>Female</td>\n      <td>113</td>\n    </tr>\n    <tr>\n      <th>2</th>\n      <td>Other / Non-Disclosed</td>\n      <td>15</td>\n    </tr>\n  </tbody>\n</table>\n</div>"
     },
     "metadata": {},
     "execution_count": 249
    }
   ],
   "source": [
    "Gender_Count_df = pd.DataFrame({\"Gender\" : [\"Male\", \"Female\", \"Other / Non-Disclosed\"], \"Total Count\" : [652, 113, 15]})\n",
    "Gender_Count_df.head()"
   ]
  },
  {
   "cell_type": "code",
   "execution_count": 250,
   "metadata": {},
   "outputs": [
    {
     "output_type": "execute_result",
     "data": {
      "text/plain": [
       "                  Gender  Total Count  Percentage of Players\n",
       "0                   Male          652              88.343558\n",
       "1                 Female          113             509.734513\n",
       "2  Other / Non-Disclosed           15            3840.000000"
      ],
      "text/html": "<div>\n<style scoped>\n    .dataframe tbody tr th:only-of-type {\n        vertical-align: middle;\n    }\n\n    .dataframe tbody tr th {\n        vertical-align: top;\n    }\n\n    .dataframe thead th {\n        text-align: right;\n    }\n</style>\n<table border=\"1\" class=\"dataframe\">\n  <thead>\n    <tr style=\"text-align: right;\">\n      <th></th>\n      <th>Gender</th>\n      <th>Total Count</th>\n      <th>Percentage of Players</th>\n    </tr>\n  </thead>\n  <tbody>\n    <tr>\n      <th>0</th>\n      <td>Male</td>\n      <td>652</td>\n      <td>88.343558</td>\n    </tr>\n    <tr>\n      <th>1</th>\n      <td>Female</td>\n      <td>113</td>\n      <td>509.734513</td>\n    </tr>\n    <tr>\n      <th>2</th>\n      <td>Other / Non-Disclosed</td>\n      <td>15</td>\n      <td>3840.000000</td>\n    </tr>\n  </tbody>\n</table>\n</div>"
     },
     "metadata": {},
     "execution_count": 250
    }
   ],
   "source": [
    "#Percentage and Count of Male/Female/Other Players\n",
    "Percentage = (576/Gender_Count_df[\"Total Count\"])*100\n",
    "Gender_Count_df[\"Percentage of Players\"] = Percentage\n",
    "\n",
    "Gender_Count_df.head()"
   ]
  },
  {
   "cell_type": "code",
   "execution_count": 251,
   "metadata": {},
   "outputs": [
    {
     "output_type": "execute_result",
     "data": {
      "text/plain": [
       "                       Price\n",
       "Gender                      \n",
       "Female                  1.00\n",
       "Male                    1.00\n",
       "Other / Non-Disclosed   1.33"
      ],
      "text/html": "<div>\n<style scoped>\n    .dataframe tbody tr th:only-of-type {\n        vertical-align: middle;\n    }\n\n    .dataframe tbody tr th {\n        vertical-align: top;\n    }\n\n    .dataframe thead th {\n        text-align: right;\n    }\n</style>\n<table border=\"1\" class=\"dataframe\">\n  <thead>\n    <tr style=\"text-align: right;\">\n      <th></th>\n      <th>Price</th>\n    </tr>\n    <tr>\n      <th>Gender</th>\n      <th></th>\n    </tr>\n  </thead>\n  <tbody>\n    <tr>\n      <th>Female</th>\n      <td>1.00</td>\n    </tr>\n    <tr>\n      <th>Male</th>\n      <td>1.00</td>\n    </tr>\n    <tr>\n      <th>Other / Non-Disclosed</th>\n      <td>1.33</td>\n    </tr>\n  </tbody>\n</table>\n</div>"
     },
     "metadata": {},
     "execution_count": 251
    }
   ],
   "source": [
    "Cleaned_data = purchase_data[['Gender','Price']]\n",
    "\n",
    "Grouped_Gender = Cleaned_data.groupby(['Gender'])\n",
    "Grouped_Gender.min().head()"
   ]
  },
  {
   "cell_type": "code",
   "execution_count": 252,
   "metadata": {},
   "outputs": [
    {
     "output_type": "execute_result",
     "data": {
      "text/plain": [
       "Gender\n",
       "Female                   113\n",
       "Male                     652\n",
       "Other / Non-Disclosed     15\n",
       "Name: Gender, dtype: int64"
      ]
     },
     "metadata": {},
     "execution_count": 252
    }
   ],
   "source": [
    "#Run basic calculation to obtain purchase count\n",
    "purchase_count = Grouped_Gender['Gender'].count()\n",
    "purchase_count\n"
   ]
  },
  {
   "cell_type": "code",
   "execution_count": 253,
   "metadata": {},
   "outputs": [
    {
     "output_type": "execute_result",
     "data": {
      "text/plain": [
       "Gender\n",
       "Female                   3.203009\n",
       "Male                     3.017853\n",
       "Other / Non-Disclosed    3.346000\n",
       "Name: Price, dtype: float64"
      ]
     },
     "metadata": {},
     "execution_count": 253
    }
   ],
   "source": [
    "#Run basic calculations to obtain  Average Price\n",
    "Gender_Average_Price = Grouped_Gender['Price'].mean()\n",
    "Gender_Average_Price"
   ]
  },
  {
   "cell_type": "code",
   "execution_count": 254,
   "metadata": {},
   "outputs": [
    {
     "output_type": "execute_result",
     "data": {
      "text/plain": [
       "Gender\n",
       "Female                    361.94\n",
       "Male                     1967.64\n",
       "Other / Non-Disclosed      50.19\n",
       "Name: Price, dtype: float64"
      ]
     },
     "metadata": {},
     "execution_count": 254
    }
   ],
   "source": [
    "#Total Purchase Value\n",
    "Gender_Total_revenue = Grouped_Gender['Price'].sum()\n",
    "Gender_Total_revenue"
   ]
  },
  {
   "cell_type": "code",
   "execution_count": 255,
   "metadata": {},
   "outputs": [
    {
     "output_type": "execute_result",
     "data": {
      "text/plain": [
       "Gender\n",
       "Female                   3.203009\n",
       "Male                     3.017853\n",
       "Other / Non-Disclosed    3.346000\n",
       "dtype: float64"
      ]
     },
     "metadata": {},
     "execution_count": 255
    }
   ],
   "source": [
    "#Average Total per person\n",
    "Gender_Purchase_Value = Gender_Total_revenue / purchase_count\n",
    "Gender_Purchase_Value"
   ]
  },
  {
   "cell_type": "code",
   "execution_count": 256,
   "metadata": {},
   "outputs": [
    {
     "output_type": "execute_result",
     "data": {
      "text/plain": [
       "                       Purchase Count  Average Purchase Price  \\\n",
       "Gender                                                          \n",
       "Female                            113                3.203009   \n",
       "Male                              652                3.017853   \n",
       "Other / Non-Disclosed              15                3.346000   \n",
       "\n",
       "                       Total Purchase Value  Average Total Purchase per person  \n",
       "Gender                                                                          \n",
       "Female                               361.94                           3.203009  \n",
       "Male                                1967.64                           3.017853  \n",
       "Other / Non-Disclosed                 50.19                           3.346000  "
      ],
      "text/html": "<div>\n<style scoped>\n    .dataframe tbody tr th:only-of-type {\n        vertical-align: middle;\n    }\n\n    .dataframe tbody tr th {\n        vertical-align: top;\n    }\n\n    .dataframe thead th {\n        text-align: right;\n    }\n</style>\n<table border=\"1\" class=\"dataframe\">\n  <thead>\n    <tr style=\"text-align: right;\">\n      <th></th>\n      <th>Purchase Count</th>\n      <th>Average Purchase Price</th>\n      <th>Total Purchase Value</th>\n      <th>Average Total Purchase per person</th>\n    </tr>\n    <tr>\n      <th>Gender</th>\n      <th></th>\n      <th></th>\n      <th></th>\n      <th></th>\n    </tr>\n  </thead>\n  <tbody>\n    <tr>\n      <th>Female</th>\n      <td>113</td>\n      <td>3.203009</td>\n      <td>361.94</td>\n      <td>3.203009</td>\n    </tr>\n    <tr>\n      <th>Male</th>\n      <td>652</td>\n      <td>3.017853</td>\n      <td>1967.64</td>\n      <td>3.017853</td>\n    </tr>\n    <tr>\n      <th>Other / Non-Disclosed</th>\n      <td>15</td>\n      <td>3.346000</td>\n      <td>50.19</td>\n      <td>3.346000</td>\n    </tr>\n  </tbody>\n</table>\n</div>"
     },
     "metadata": {},
     "execution_count": 256
    }
   ],
   "source": [
    "#Summary Table\n",
    "Gender_Analysis = pd.DataFrame({\"Purchase Count\": purchase_count, \"Average Purchase Price\": Gender_Average_Price, \"Total Purchase Value\": Gender_Total_revenue, \"Average Total Purchase per person\":Gender_Purchase_Value})\n",
    "Gender_Analysis.head()"
   ]
  },
  {
   "source": [
    "##Age Demographics"
   ],
   "cell_type": "markdown",
   "metadata": {}
  },
  {
   "cell_type": "code",
   "execution_count": 257,
   "metadata": {},
   "outputs": [],
   "source": [
    "#Create Bins\n",
    "Bins = [0, 10, 14, 19, 24, 29, 34, 39, 40]\n",
    "Age_Demographics = [\"<10\", \"10-14\", \"15-19\", \"20-24\", \"25-29\", \"30-34\", \"35-39\", \"40+\"]"
   ]
  },
  {
   "cell_type": "code",
   "execution_count": 258,
   "metadata": {},
   "outputs": [
    {
     "output_type": "execute_result",
     "data": {
      "text/plain": [
       "           Purchase ID             SN  Age  Gender  Item ID  \\\n",
       "Age Group                                                     \n",
       "<10                 27     Aeralria27    7  Female       11   \n",
       "10-14               26  Chanirrasta87   11  Female       30   \n",
       "15-19               30   Adairialis76   15  Female        0   \n",
       "20-24                0         Aela59   20  Female        0   \n",
       "25-29               25     Aellynun67   25  Female        1   \n",
       "\n",
       "                                Item Name  Price  \n",
       "Age Group                                         \n",
       "<10        Aetherius, Boon of the Blessed   1.29  \n",
       "10-14            Apocalyptic Battlescythe   1.03  \n",
       "15-19                              Agatha   1.01  \n",
       "20-24                       Abyssal Shard   1.00  \n",
       "25-29      Aetherius, Boon of the Blessed   1.00  "
      ],
      "text/html": "<div>\n<style scoped>\n    .dataframe tbody tr th:only-of-type {\n        vertical-align: middle;\n    }\n\n    .dataframe tbody tr th {\n        vertical-align: top;\n    }\n\n    .dataframe thead th {\n        text-align: right;\n    }\n</style>\n<table border=\"1\" class=\"dataframe\">\n  <thead>\n    <tr style=\"text-align: right;\">\n      <th></th>\n      <th>Purchase ID</th>\n      <th>SN</th>\n      <th>Age</th>\n      <th>Gender</th>\n      <th>Item ID</th>\n      <th>Item Name</th>\n      <th>Price</th>\n    </tr>\n    <tr>\n      <th>Age Group</th>\n      <th></th>\n      <th></th>\n      <th></th>\n      <th></th>\n      <th></th>\n      <th></th>\n      <th></th>\n    </tr>\n  </thead>\n  <tbody>\n    <tr>\n      <th>&lt;10</th>\n      <td>27</td>\n      <td>Aeralria27</td>\n      <td>7</td>\n      <td>Female</td>\n      <td>11</td>\n      <td>Aetherius, Boon of the Blessed</td>\n      <td>1.29</td>\n    </tr>\n    <tr>\n      <th>10-14</th>\n      <td>26</td>\n      <td>Chanirrasta87</td>\n      <td>11</td>\n      <td>Female</td>\n      <td>30</td>\n      <td>Apocalyptic Battlescythe</td>\n      <td>1.03</td>\n    </tr>\n    <tr>\n      <th>15-19</th>\n      <td>30</td>\n      <td>Adairialis76</td>\n      <td>15</td>\n      <td>Female</td>\n      <td>0</td>\n      <td>Agatha</td>\n      <td>1.01</td>\n    </tr>\n    <tr>\n      <th>20-24</th>\n      <td>0</td>\n      <td>Aela59</td>\n      <td>20</td>\n      <td>Female</td>\n      <td>0</td>\n      <td>Abyssal Shard</td>\n      <td>1.00</td>\n    </tr>\n    <tr>\n      <th>25-29</th>\n      <td>25</td>\n      <td>Aellynun67</td>\n      <td>25</td>\n      <td>Female</td>\n      <td>1</td>\n      <td>Aetherius, Boon of the Blessed</td>\n      <td>1.00</td>\n    </tr>\n  </tbody>\n</table>\n</div>"
     },
     "metadata": {},
     "execution_count": 258
    }
   ],
   "source": [
    "#Categorize the existing players using Age Bins\n",
    "purchase_data[\"Age Group\"] = pd.cut(purchase_data['Age'], Bins, labels= Age_Demographics, include_lowest=True)\n",
    "purchase_data_Age_cleanup = purchase_data.groupby(\"Age Group\")\n",
    "purchase_data_Age_cleanup.min().head()"
   ]
  },
  {
   "cell_type": "code",
   "execution_count": 259,
   "metadata": {},
   "outputs": [
    {
     "output_type": "execute_result",
     "data": {
      "text/plain": [
       "Age Group\n",
       "<10       32\n",
       "10-14     19\n",
       "15-19    136\n",
       "20-24    365\n",
       "25-29    101\n",
       "30-34     73\n",
       "35-39     41\n",
       "40+        6\n",
       "Name: Purchase ID, dtype: int64"
      ]
     },
     "metadata": {},
     "execution_count": 259
    }
   ],
   "source": [
    "Total_count_of_purchases = purchase_data_Age_cleanup[\"Purchase ID\"].count()\n",
    "Total_count_of_purchases"
   ]
  },
  {
   "cell_type": "code",
   "execution_count": 260,
   "metadata": {},
   "outputs": [
    {
     "output_type": "execute_result",
     "data": {
      "text/plain": [
       "{'Total Count': [Age Group\n",
       "  <10       32\n",
       "  10-14     19\n",
       "  15-19    136\n",
       "  20-24    365\n",
       "  25-29    101\n",
       "  30-34     73\n",
       "  35-39     41\n",
       "  40+        6\n",
       "  Name: Purchase ID, dtype: int64]}"
      ]
     },
     "metadata": {},
     "execution_count": 260
    }
   ],
   "source": [
    "# Find how many rows fall into each bin\n",
    "Total_by_age = {\"Total Count\" : [Total_count_of_purchases]}\n",
    "Total_by_age"
   ]
  },
  {
   "cell_type": "code",
   "execution_count": 261,
   "metadata": {},
   "outputs": [
    {
     "output_type": "execute_result",
     "data": {
      "text/plain": [
       "{'Percentage': [Age Group\n",
       "  <10       5.555556\n",
       "  10-14     3.298611\n",
       "  15-19    23.611111\n",
       "  20-24    63.368056\n",
       "  25-29    17.534722\n",
       "  30-34    12.673611\n",
       "  35-39     7.118056\n",
       "  40+       1.041667\n",
       "  Name: Purchase ID, dtype: float64]}"
      ]
     },
     "metadata": {},
     "execution_count": 261
    }
   ],
   "source": [
    "# Get the average of each column within the GroupBy object\n",
    "\n",
    "Percentage_Age = (Total_count_of_purchases/576)*100\n",
    "#Percentage_Age\n",
    "\n",
    "Percentage_Age_dict = {\"Percentage\" : [Percentage_Age]}\n",
    "\n",
    "Percentage_Age_dict"
   ]
  },
  {
   "cell_type": "code",
   "execution_count": 262,
   "metadata": {},
   "outputs": [
    {
     "output_type": "execute_result",
     "data": {
      "text/plain": [
       "           Percentage  Total Count\n",
       "Age Group                         \n",
       "<10          5.555556           32\n",
       "10-14        3.298611           19\n",
       "15-19       23.611111          136\n",
       "20-24       63.368056          365\n",
       "25-29       17.534722          101\n",
       "30-34       12.673611           73\n",
       "35-39        7.118056           41\n",
       "40+          1.041667            6"
      ],
      "text/html": "<div>\n<style scoped>\n    .dataframe tbody tr th:only-of-type {\n        vertical-align: middle;\n    }\n\n    .dataframe tbody tr th {\n        vertical-align: top;\n    }\n\n    .dataframe thead th {\n        text-align: right;\n    }\n</style>\n<table border=\"1\" class=\"dataframe\">\n  <thead>\n    <tr style=\"text-align: right;\">\n      <th></th>\n      <th>Percentage</th>\n      <th>Total Count</th>\n    </tr>\n    <tr>\n      <th>Age Group</th>\n      <th></th>\n      <th></th>\n    </tr>\n  </thead>\n  <tbody>\n    <tr>\n      <th>&lt;10</th>\n      <td>5.555556</td>\n      <td>32</td>\n    </tr>\n    <tr>\n      <th>10-14</th>\n      <td>3.298611</td>\n      <td>19</td>\n    </tr>\n    <tr>\n      <th>15-19</th>\n      <td>23.611111</td>\n      <td>136</td>\n    </tr>\n    <tr>\n      <th>20-24</th>\n      <td>63.368056</td>\n      <td>365</td>\n    </tr>\n    <tr>\n      <th>25-29</th>\n      <td>17.534722</td>\n      <td>101</td>\n    </tr>\n    <tr>\n      <th>30-34</th>\n      <td>12.673611</td>\n      <td>73</td>\n    </tr>\n    <tr>\n      <th>35-39</th>\n      <td>7.118056</td>\n      <td>41</td>\n    </tr>\n    <tr>\n      <th>40+</th>\n      <td>1.041667</td>\n      <td>6</td>\n    </tr>\n  </tbody>\n</table>\n</div>"
     },
     "metadata": {},
     "execution_count": 262
    }
   ],
   "source": [
    "Age_Demographics_Summary = pd.DataFrame({\"Percentage\" : Percentage_Age, \"Total Count\" : Total_count_of_purchases})\n",
    "\n",
    "Age_Demographics_Summary"
   ]
  },
  {
   "source": [
    "##Purchasing Analysis (Age)"
   ],
   "cell_type": "markdown",
   "metadata": {}
  },
  {
   "cell_type": "code",
   "execution_count": 263,
   "metadata": {},
   "outputs": [],
   "source": [
    "\n",
    "#Bin the purchase_data data frame by age\n",
    "Bins = [0, 10, 14, 19, 24, 29, 34, 39, 40]\n",
    "Age_Demographics = [\"<10\", \"10-14\", \"15-19\", \"20-24\", \"25-29\", \"30-34\", \"35-39\", \"40+\"]"
   ]
  },
  {
   "cell_type": "code",
   "execution_count": 264,
   "metadata": {},
   "outputs": [
    {
     "output_type": "execute_result",
     "data": {
      "text/plain": [
       "           Purchase ID             SN  Age  Gender  Item ID  \\\n",
       "Age Group                                                     \n",
       "<10                 27     Aeralria27    7  Female       11   \n",
       "10-14               26  Chanirrasta87   11  Female       30   \n",
       "15-19               30   Adairialis76   15  Female        0   \n",
       "20-24                0         Aela59   20  Female        0   \n",
       "25-29               25     Aellynun67   25  Female        1   \n",
       "\n",
       "                                Item Name  Price  \n",
       "Age Group                                         \n",
       "<10        Aetherius, Boon of the Blessed   1.29  \n",
       "10-14            Apocalyptic Battlescythe   1.03  \n",
       "15-19                              Agatha   1.01  \n",
       "20-24                       Abyssal Shard   1.00  \n",
       "25-29      Aetherius, Boon of the Blessed   1.00  "
      ],
      "text/html": "<div>\n<style scoped>\n    .dataframe tbody tr th:only-of-type {\n        vertical-align: middle;\n    }\n\n    .dataframe tbody tr th {\n        vertical-align: top;\n    }\n\n    .dataframe thead th {\n        text-align: right;\n    }\n</style>\n<table border=\"1\" class=\"dataframe\">\n  <thead>\n    <tr style=\"text-align: right;\">\n      <th></th>\n      <th>Purchase ID</th>\n      <th>SN</th>\n      <th>Age</th>\n      <th>Gender</th>\n      <th>Item ID</th>\n      <th>Item Name</th>\n      <th>Price</th>\n    </tr>\n    <tr>\n      <th>Age Group</th>\n      <th></th>\n      <th></th>\n      <th></th>\n      <th></th>\n      <th></th>\n      <th></th>\n      <th></th>\n    </tr>\n  </thead>\n  <tbody>\n    <tr>\n      <th>&lt;10</th>\n      <td>27</td>\n      <td>Aeralria27</td>\n      <td>7</td>\n      <td>Female</td>\n      <td>11</td>\n      <td>Aetherius, Boon of the Blessed</td>\n      <td>1.29</td>\n    </tr>\n    <tr>\n      <th>10-14</th>\n      <td>26</td>\n      <td>Chanirrasta87</td>\n      <td>11</td>\n      <td>Female</td>\n      <td>30</td>\n      <td>Apocalyptic Battlescythe</td>\n      <td>1.03</td>\n    </tr>\n    <tr>\n      <th>15-19</th>\n      <td>30</td>\n      <td>Adairialis76</td>\n      <td>15</td>\n      <td>Female</td>\n      <td>0</td>\n      <td>Agatha</td>\n      <td>1.01</td>\n    </tr>\n    <tr>\n      <th>20-24</th>\n      <td>0</td>\n      <td>Aela59</td>\n      <td>20</td>\n      <td>Female</td>\n      <td>0</td>\n      <td>Abyssal Shard</td>\n      <td>1.00</td>\n    </tr>\n    <tr>\n      <th>25-29</th>\n      <td>25</td>\n      <td>Aellynun67</td>\n      <td>25</td>\n      <td>Female</td>\n      <td>1</td>\n      <td>Aetherius, Boon of the Blessed</td>\n      <td>1.00</td>\n    </tr>\n  </tbody>\n</table>\n</div>"
     },
     "metadata": {},
     "execution_count": 264
    }
   ],
   "source": [
    "purchase_data[\"Age Group\"] = pd.cut(purchase_data['Age'], Bins, labels= Age_Demographics, include_lowest=True)\n",
    "purchase_data_Age_cleanup = purchase_data.groupby(\"Age Group\")\n",
    "purchase_data_Age_cleanup.min().head()"
   ]
  },
  {
   "cell_type": "code",
   "execution_count": 265,
   "metadata": {},
   "outputs": [
    {
     "output_type": "execute_result",
     "data": {
      "text/plain": [
       "Age Group\n",
       "<10       32\n",
       "10-14     19\n",
       "15-19    136\n",
       "20-24    365\n",
       "25-29    101\n",
       "30-34     73\n",
       "35-39     41\n",
       "40+        6\n",
       "Name: Purchase ID, dtype: int64"
      ]
     },
     "metadata": {},
     "execution_count": 265
    }
   ],
   "source": [
    "#Purchase count\n",
    "\n",
    "Total_count_of_purchases = purchase_data_Age_cleanup[\"Purchase ID\"].count()\n",
    "Total_count_of_purchases"
   ]
  },
  {
   "cell_type": "code",
   "execution_count": 266,
   "metadata": {},
   "outputs": [
    {
     "output_type": "execute_result",
     "data": {
      "text/plain": [
       "Age Group\n",
       "<10      3.405000\n",
       "10-14    2.681579\n",
       "15-19    3.035956\n",
       "20-24    3.052219\n",
       "25-29    2.900990\n",
       "30-34    2.931507\n",
       "35-39    3.601707\n",
       "40+      2.785000\n",
       "Name: Price, dtype: float64"
      ]
     },
     "metadata": {},
     "execution_count": 266
    }
   ],
   "source": [
    "#Average Purchase Price\n",
    "Age_Avg_Purchase_Price = purchase_data_Age_cleanup[\"Price\"].mean()\n",
    "Age_Avg_Purchase_Price"
   ]
  },
  {
   "cell_type": "code",
   "execution_count": 267,
   "metadata": {},
   "outputs": [
    {
     "output_type": "execute_result",
     "data": {
      "text/plain": [
       "Age Group\n",
       "<10       108.96\n",
       "10-14      50.95\n",
       "15-19     412.89\n",
       "20-24    1114.06\n",
       "25-29     293.00\n",
       "30-34     214.00\n",
       "35-39     147.67\n",
       "40+        16.71\n",
       "dtype: float64"
      ]
     },
     "metadata": {},
     "execution_count": 267
    }
   ],
   "source": [
    "#Total Purchase Value\n",
    "Age_Total_Purchase_Value = Total_count_of_purchases * Age_Avg_Purchase_Price\n",
    "Age_Total_Purchase_Value"
   ]
  },
  {
   "cell_type": "code",
   "execution_count": 268,
   "metadata": {},
   "outputs": [
    {
     "output_type": "execute_result",
     "data": {
      "text/plain": [
       "Age Group\n",
       "<10      3.405000\n",
       "10-14    2.681579\n",
       "15-19    3.035956\n",
       "20-24    3.052219\n",
       "25-29    2.900990\n",
       "30-34    2.931507\n",
       "35-39    3.601707\n",
       "40+      2.785000\n",
       "dtype: float64"
      ]
     },
     "metadata": {},
     "execution_count": 268
    }
   ],
   "source": [
    "#Avg total per person\n",
    "Age_Avg_Per_Person = Age_Total_Purchase_Value / Total_count_of_purchases\n",
    "Age_Avg_Per_Person"
   ]
  },
  {
   "cell_type": "code",
   "execution_count": 269,
   "metadata": {},
   "outputs": [
    {
     "output_type": "execute_result",
     "data": {
      "text/plain": [
       "           Purchase Count  Average Purchase Price  Total Purchase Value  \\\n",
       "Age Group                                                                 \n",
       "<10                    32                3.405000                108.96   \n",
       "10-14                  19                2.681579                 50.95   \n",
       "15-19                 136                3.035956                412.89   \n",
       "20-24                 365                3.052219               1114.06   \n",
       "25-29                 101                2.900990                293.00   \n",
       "\n",
       "           Average Total Purchase per person  \n",
       "Age Group                                     \n",
       "<10                                 3.405000  \n",
       "10-14                               2.681579  \n",
       "15-19                               3.035956  \n",
       "20-24                               3.052219  \n",
       "25-29                               2.900990  "
      ],
      "text/html": "<div>\n<style scoped>\n    .dataframe tbody tr th:only-of-type {\n        vertical-align: middle;\n    }\n\n    .dataframe tbody tr th {\n        vertical-align: top;\n    }\n\n    .dataframe thead th {\n        text-align: right;\n    }\n</style>\n<table border=\"1\" class=\"dataframe\">\n  <thead>\n    <tr style=\"text-align: right;\">\n      <th></th>\n      <th>Purchase Count</th>\n      <th>Average Purchase Price</th>\n      <th>Total Purchase Value</th>\n      <th>Average Total Purchase per person</th>\n    </tr>\n    <tr>\n      <th>Age Group</th>\n      <th></th>\n      <th></th>\n      <th></th>\n      <th></th>\n    </tr>\n  </thead>\n  <tbody>\n    <tr>\n      <th>&lt;10</th>\n      <td>32</td>\n      <td>3.405000</td>\n      <td>108.96</td>\n      <td>3.405000</td>\n    </tr>\n    <tr>\n      <th>10-14</th>\n      <td>19</td>\n      <td>2.681579</td>\n      <td>50.95</td>\n      <td>2.681579</td>\n    </tr>\n    <tr>\n      <th>15-19</th>\n      <td>136</td>\n      <td>3.035956</td>\n      <td>412.89</td>\n      <td>3.035956</td>\n    </tr>\n    <tr>\n      <th>20-24</th>\n      <td>365</td>\n      <td>3.052219</td>\n      <td>1114.06</td>\n      <td>3.052219</td>\n    </tr>\n    <tr>\n      <th>25-29</th>\n      <td>101</td>\n      <td>2.900990</td>\n      <td>293.00</td>\n      <td>2.900990</td>\n    </tr>\n  </tbody>\n</table>\n</div>"
     },
     "metadata": {},
     "execution_count": 269
    }
   ],
   "source": [
    "#Create a summary data frame to hold the results and display\n",
    "Age_Purchasing_Analysis = pd.DataFrame({\"Purchase Count\": Total_count_of_purchases, \"Average Purchase Price\": Age_Avg_Purchase_Price, \"Total Purchase Value\": Age_Total_Purchase_Value, \"Average Total Purchase per person\": Age_Avg_Per_Person})\n",
    "Age_Purchasing_Analysis.head()"
   ]
  },
  {
   "source": [
    "##Top Spenders"
   ],
   "cell_type": "markdown",
   "metadata": {}
  },
  {
   "cell_type": "code",
   "execution_count": 270,
   "metadata": {},
   "outputs": [
    {
     "output_type": "execute_result",
     "data": {
      "text/plain": [
       "              SN  Purchase ID  Price\n",
       "0        Lisim78            0   3.53\n",
       "1    Lisovynya38            1   1.56\n",
       "2     Ithergue48            2   4.88\n",
       "3  Chamassasya86            3   3.27\n",
       "4      Iskosia90            4   1.44"
      ],
      "text/html": "<div>\n<style scoped>\n    .dataframe tbody tr th:only-of-type {\n        vertical-align: middle;\n    }\n\n    .dataframe tbody tr th {\n        vertical-align: top;\n    }\n\n    .dataframe thead th {\n        text-align: right;\n    }\n</style>\n<table border=\"1\" class=\"dataframe\">\n  <thead>\n    <tr style=\"text-align: right;\">\n      <th></th>\n      <th>SN</th>\n      <th>Purchase ID</th>\n      <th>Price</th>\n    </tr>\n  </thead>\n  <tbody>\n    <tr>\n      <th>0</th>\n      <td>Lisim78</td>\n      <td>0</td>\n      <td>3.53</td>\n    </tr>\n    <tr>\n      <th>1</th>\n      <td>Lisovynya38</td>\n      <td>1</td>\n      <td>1.56</td>\n    </tr>\n    <tr>\n      <th>2</th>\n      <td>Ithergue48</td>\n      <td>2</td>\n      <td>4.88</td>\n    </tr>\n    <tr>\n      <th>3</th>\n      <td>Chamassasya86</td>\n      <td>3</td>\n      <td>3.27</td>\n    </tr>\n    <tr>\n      <th>4</th>\n      <td>Iskosia90</td>\n      <td>4</td>\n      <td>1.44</td>\n    </tr>\n  </tbody>\n</table>\n</div>"
     },
     "metadata": {},
     "execution_count": 270
    }
   ],
   "source": [
    "#Clean Data to look at SN and find the top spenders\n",
    "SN_Data = purchase_data[['SN','Purchase ID', 'Price']]\n",
    "SN_Data.head()\n"
   ]
  },
  {
   "cell_type": "code",
   "execution_count": 271,
   "metadata": {},
   "outputs": [
    {
     "output_type": "execute_result",
     "data": {
      "text/plain": [
       "SN\n",
       "Adairialis76     1\n",
       "Adastirin33      1\n",
       "Aeda94           1\n",
       "Aela59           1\n",
       "Aelaria33        1\n",
       "                ..\n",
       "Yathecal82       3\n",
       "Yathedeu43       2\n",
       "Yoishirrala98    1\n",
       "Zhisrisu83       2\n",
       "Zontibe81        3\n",
       "Name: Purchase ID, Length: 576, dtype: int64"
      ]
     },
     "metadata": {},
     "execution_count": 271
    }
   ],
   "source": [
    "#Total Purchase Count\n",
    "Grouped_SN = SN_Data.groupby(['SN'])\n",
    "SN_Total_count_of_purchases = Grouped_SN[\"Purchase ID\"].count()\n",
    "SN_Total_count_of_purchases"
   ]
  },
  {
   "cell_type": "code",
   "execution_count": 272,
   "metadata": {},
   "outputs": [
    {
     "output_type": "execute_result",
     "data": {
      "text/plain": [
       "SN\n",
       "Adairialis76     2.280000\n",
       "Adastirin33      4.480000\n",
       "Aeda94           4.910000\n",
       "Aela59           4.320000\n",
       "Aelaria33        1.790000\n",
       "                   ...   \n",
       "Yathecal82       2.073333\n",
       "Yathedeu43       3.010000\n",
       "Yoishirrala98    4.580000\n",
       "Zhisrisu83       3.945000\n",
       "Zontibe81        2.676667\n",
       "Name: Price, Length: 576, dtype: float64"
      ]
     },
     "metadata": {},
     "execution_count": 272
    }
   ],
   "source": [
    "#Average Purchase Price\n",
    "SN_Avg_Purchase_Price = Grouped_SN['Price'].mean()\n",
    "SN_Avg_Purchase_Price"
   ]
  },
  {
   "cell_type": "code",
   "execution_count": 283,
   "metadata": {},
   "outputs": [
    {
     "output_type": "execute_result",
     "data": {
      "text/plain": [
       "SN\n",
       "Adairialis76     2.28\n",
       "Adastirin33      4.48\n",
       "Aeda94           4.91\n",
       "Aela59           4.32\n",
       "Aelaria33        1.79\n",
       "                 ... \n",
       "Yathecal82       6.22\n",
       "Yathedeu43       6.02\n",
       "Yoishirrala98    4.58\n",
       "Zhisrisu83       7.89\n",
       "Zontibe81        8.03\n",
       "Length: 576, dtype: float64"
      ]
     },
     "metadata": {},
     "execution_count": 283
    }
   ],
   "source": [
    "#Total Purchase value\n",
    "SN_Total_Purchase_Value = SN_Total_count_of_purchases * SN_Avg_Purchase_Price\n",
    "SN_Total_Purchase_Value"
   ]
  },
  {
   "cell_type": "code",
   "execution_count": 284,
   "metadata": {},
   "outputs": [
    {
     "output_type": "execute_result",
     "data": {
      "text/plain": [
       "             Purchase Count  Average Purchase Price  Total Purchase Value\n",
       "SN                                                                       \n",
       "Lisosia93                 5                3.792000                 18.96\n",
       "Idastidru52               4                3.862500                 15.45\n",
       "Chamjask73                3                4.610000                 13.83\n",
       "Iral74                    4                3.405000                 13.62\n",
       "Iskadarya95               3                4.366667                 13.10"
      ],
      "text/html": "<div>\n<style scoped>\n    .dataframe tbody tr th:only-of-type {\n        vertical-align: middle;\n    }\n\n    .dataframe tbody tr th {\n        vertical-align: top;\n    }\n\n    .dataframe thead th {\n        text-align: right;\n    }\n</style>\n<table border=\"1\" class=\"dataframe\">\n  <thead>\n    <tr style=\"text-align: right;\">\n      <th></th>\n      <th>Purchase Count</th>\n      <th>Average Purchase Price</th>\n      <th>Total Purchase Value</th>\n    </tr>\n    <tr>\n      <th>SN</th>\n      <th></th>\n      <th></th>\n      <th></th>\n    </tr>\n  </thead>\n  <tbody>\n    <tr>\n      <th>Lisosia93</th>\n      <td>5</td>\n      <td>3.792000</td>\n      <td>18.96</td>\n    </tr>\n    <tr>\n      <th>Idastidru52</th>\n      <td>4</td>\n      <td>3.862500</td>\n      <td>15.45</td>\n    </tr>\n    <tr>\n      <th>Chamjask73</th>\n      <td>3</td>\n      <td>4.610000</td>\n      <td>13.83</td>\n    </tr>\n    <tr>\n      <th>Iral74</th>\n      <td>4</td>\n      <td>3.405000</td>\n      <td>13.62</td>\n    </tr>\n    <tr>\n      <th>Iskadarya95</th>\n      <td>3</td>\n      <td>4.366667</td>\n      <td>13.10</td>\n    </tr>\n  </tbody>\n</table>\n</div>"
     },
     "metadata": {},
     "execution_count": 284
    }
   ],
   "source": [
    "#Create a summary data frame to hold the results\n",
    "#Sort the total purchase value column in descending order\n",
    "Top_Spenders = pd.DataFrame({\"Purchase Count\": SN_Total_count_of_purchases, \"Average Purchase Price\": SN_Avg_Purchase_Price, \"Total Purchase Value\": SN_Total_Purchase_Value})\n",
    "Sorted_Top_Spenders = Top_Spenders.sort_values(\"Total Purchase Value\", ascending=False)\n",
    "Sorted_Top_Spenders.head()"
   ]
  },
  {
   "source": [
    "##Most Popular Items"
   ],
   "cell_type": "markdown",
   "metadata": {}
  },
  {
   "cell_type": "code",
   "execution_count": 275,
   "metadata": {},
   "outputs": [
    {
     "output_type": "execute_result",
     "data": {
      "text/plain": [
       "     Item ID                                  Item Name  Price\n",
       "0        108  Extraction, Quickblade Of Trembling Hands   3.53\n",
       "1        143                          Frenzied Scimitar   1.56\n",
       "2         92                               Final Critic   4.88\n",
       "3        100                                Blindscythe   3.27\n",
       "4        131                                       Fury   1.44\n",
       "..       ...                                        ...    ...\n",
       "775       60                                       Wolf   3.54\n",
       "776      164                           Exiled Doomblade   1.63\n",
       "777       67      Celeste, Incarnation of the Corrupted   3.46\n",
       "778       92                               Final Critic   4.19\n",
       "779       50                                       Dawn   4.60\n",
       "\n",
       "[780 rows x 3 columns]"
      ],
      "text/html": "<div>\n<style scoped>\n    .dataframe tbody tr th:only-of-type {\n        vertical-align: middle;\n    }\n\n    .dataframe tbody tr th {\n        vertical-align: top;\n    }\n\n    .dataframe thead th {\n        text-align: right;\n    }\n</style>\n<table border=\"1\" class=\"dataframe\">\n  <thead>\n    <tr style=\"text-align: right;\">\n      <th></th>\n      <th>Item ID</th>\n      <th>Item Name</th>\n      <th>Price</th>\n    </tr>\n  </thead>\n  <tbody>\n    <tr>\n      <th>0</th>\n      <td>108</td>\n      <td>Extraction, Quickblade Of Trembling Hands</td>\n      <td>3.53</td>\n    </tr>\n    <tr>\n      <th>1</th>\n      <td>143</td>\n      <td>Frenzied Scimitar</td>\n      <td>1.56</td>\n    </tr>\n    <tr>\n      <th>2</th>\n      <td>92</td>\n      <td>Final Critic</td>\n      <td>4.88</td>\n    </tr>\n    <tr>\n      <th>3</th>\n      <td>100</td>\n      <td>Blindscythe</td>\n      <td>3.27</td>\n    </tr>\n    <tr>\n      <th>4</th>\n      <td>131</td>\n      <td>Fury</td>\n      <td>1.44</td>\n    </tr>\n    <tr>\n      <th>...</th>\n      <td>...</td>\n      <td>...</td>\n      <td>...</td>\n    </tr>\n    <tr>\n      <th>775</th>\n      <td>60</td>\n      <td>Wolf</td>\n      <td>3.54</td>\n    </tr>\n    <tr>\n      <th>776</th>\n      <td>164</td>\n      <td>Exiled Doomblade</td>\n      <td>1.63</td>\n    </tr>\n    <tr>\n      <th>777</th>\n      <td>67</td>\n      <td>Celeste, Incarnation of the Corrupted</td>\n      <td>3.46</td>\n    </tr>\n    <tr>\n      <th>778</th>\n      <td>92</td>\n      <td>Final Critic</td>\n      <td>4.19</td>\n    </tr>\n    <tr>\n      <th>779</th>\n      <td>50</td>\n      <td>Dawn</td>\n      <td>4.60</td>\n    </tr>\n  </tbody>\n</table>\n<p>780 rows × 3 columns</p>\n</div>"
     },
     "metadata": {},
     "execution_count": 275
    }
   ],
   "source": [
    "#Retrieve the Item ID, Item Name, and Item Price columns\n",
    "\n",
    "Most_Popular_Clean = purchase_data[[\"Item ID\", \"Item Name\", \"Price\"]]\n",
    "Most_Popular_Clean"
   ]
  },
  {
   "cell_type": "code",
   "execution_count": 276,
   "metadata": {},
   "outputs": [
    {
     "output_type": "execute_result",
     "data": {
      "text/plain": [
       "                            Price\n",
       "Item ID Item Name                \n",
       "0       Splinter             1.28\n",
       "1       Crucifer             1.99\n",
       "2       Verdict              2.48\n",
       "3       Phantomlight         2.49\n",
       "4       Bloodlord's Fetish   1.70"
      ],
      "text/html": "<div>\n<style scoped>\n    .dataframe tbody tr th:only-of-type {\n        vertical-align: middle;\n    }\n\n    .dataframe tbody tr th {\n        vertical-align: top;\n    }\n\n    .dataframe thead th {\n        text-align: right;\n    }\n</style>\n<table border=\"1\" class=\"dataframe\">\n  <thead>\n    <tr style=\"text-align: right;\">\n      <th></th>\n      <th></th>\n      <th>Price</th>\n    </tr>\n    <tr>\n      <th>Item ID</th>\n      <th>Item Name</th>\n      <th></th>\n    </tr>\n  </thead>\n  <tbody>\n    <tr>\n      <th>0</th>\n      <th>Splinter</th>\n      <td>1.28</td>\n    </tr>\n    <tr>\n      <th>1</th>\n      <th>Crucifer</th>\n      <td>1.99</td>\n    </tr>\n    <tr>\n      <th>2</th>\n      <th>Verdict</th>\n      <td>2.48</td>\n    </tr>\n    <tr>\n      <th>3</th>\n      <th>Phantomlight</th>\n      <td>2.49</td>\n    </tr>\n    <tr>\n      <th>4</th>\n      <th>Bloodlord's Fetish</th>\n      <td>1.70</td>\n    </tr>\n  </tbody>\n</table>\n</div>"
     },
     "metadata": {},
     "execution_count": 276
    }
   ],
   "source": [
    "#Group by Item ID and Item Name. Perform calculations to obtain purchase count, average item price, and total purchase value\n",
    "Grouped_Most_Popular = Most_Popular_Clean.groupby([\"Item ID\", \"Item Name\"])\n",
    "Grouped_Most_Popular.min().head()"
   ]
  },
  {
   "cell_type": "code",
   "execution_count": 277,
   "metadata": {},
   "outputs": [
    {
     "output_type": "execute_result",
     "data": {
      "text/plain": [
       "Item ID  Item Name                                   \n",
       "0        Splinter                                         4\n",
       "1        Crucifer                                         4\n",
       "2        Verdict                                          6\n",
       "3        Phantomlight                                     6\n",
       "4        Bloodlord's Fetish                               5\n",
       "                                                         ..\n",
       "178      Oathbreaker, Last Hope of the Breaking Storm    12\n",
       "179      Wolf, Promise of the Moonwalker                  6\n",
       "181      Reaper's Toll                                    5\n",
       "182      Toothpick                                        3\n",
       "183      Dragon's Greatsword                              3\n",
       "Name: Item ID, Length: 179, dtype: int64"
      ]
     },
     "metadata": {},
     "execution_count": 277
    }
   ],
   "source": [
    "#Purchase Count\n",
    "Most_Popular_Purchase_Count = Grouped_Most_Popular['Item ID'].count()\n",
    "Most_Popular_Purchase_Count"
   ]
  },
  {
   "cell_type": "code",
   "execution_count": 278,
   "metadata": {},
   "outputs": [
    {
     "output_type": "execute_result",
     "data": {
      "text/plain": [
       "Item ID  Item Name                                   \n",
       "0        Splinter                                         5.12\n",
       "1        Crucifer                                        11.77\n",
       "2        Verdict                                         14.88\n",
       "3        Phantomlight                                    14.94\n",
       "4        Bloodlord's Fetish                               8.50\n",
       "                                                         ...  \n",
       "178      Oathbreaker, Last Hope of the Breaking Storm    50.76\n",
       "179      Wolf, Promise of the Moonwalker                 26.88\n",
       "181      Reaper's Toll                                    8.30\n",
       "182      Toothpick                                       12.09\n",
       "183      Dragon's Greatsword                              3.27\n",
       "Name: Price, Length: 179, dtype: float64"
      ]
     },
     "metadata": {},
     "execution_count": 278
    }
   ],
   "source": [
    "#Total Purchase Value\n",
    "Most_Popular_Total_Purchase = Grouped_Most_Popular[\"Price\"].sum()\n",
    "Most_Popular_Total_Purchase"
   ]
  },
  {
   "cell_type": "code",
   "execution_count": 279,
   "metadata": {},
   "outputs": [
    {
     "output_type": "execute_result",
     "data": {
      "text/plain": [
       "Item ID  Item Name                                   \n",
       "0        Splinter                                        1.2800\n",
       "1        Crucifer                                        2.9425\n",
       "2        Verdict                                         2.4800\n",
       "3        Phantomlight                                    2.4900\n",
       "4        Bloodlord's Fetish                              1.7000\n",
       "                                                          ...  \n",
       "178      Oathbreaker, Last Hope of the Breaking Storm    4.2300\n",
       "179      Wolf, Promise of the Moonwalker                 4.4800\n",
       "181      Reaper's Toll                                   1.6600\n",
       "182      Toothpick                                       4.0300\n",
       "183      Dragon's Greatsword                             1.0900\n",
       "Length: 179, dtype: float64"
      ]
     },
     "metadata": {},
     "execution_count": 279
    }
   ],
   "source": [
    "#Item Price\n",
    "Most_Popular_Item_Price = Most_Popular_Total_Purchase/ Most_Popular_Purchase_Count\n",
    "Most_Popular_Item_Price"
   ]
  },
  {
   "cell_type": "code",
   "execution_count": 280,
   "metadata": {},
   "outputs": [
    {
     "output_type": "execute_result",
     "data": {
      "text/plain": [
       "                                                      Purchase Count  \\\n",
       "Item ID Item Name                                                      \n",
       "92      Final Critic                                              13   \n",
       "178     Oathbreaker, Last Hope of the Breaking Storm              12   \n",
       "145     Fiery Glass Crusader                                       9   \n",
       "132     Persuasion                                                 9   \n",
       "108     Extraction, Quickblade Of Trembling Hands                  9   \n",
       "\n",
       "                                                      Item Price  \\\n",
       "Item ID Item Name                                                  \n",
       "92      Final Critic                                    4.614615   \n",
       "178     Oathbreaker, Last Hope of the Breaking Storm    4.230000   \n",
       "145     Fiery Glass Crusader                            4.580000   \n",
       "132     Persuasion                                      3.221111   \n",
       "108     Extraction, Quickblade Of Trembling Hands       3.530000   \n",
       "\n",
       "                                                      Total Purchase Value  \n",
       "Item ID Item Name                                                           \n",
       "92      Final Critic                                                 59.99  \n",
       "178     Oathbreaker, Last Hope of the Breaking Storm                 50.76  \n",
       "145     Fiery Glass Crusader                                         41.22  \n",
       "132     Persuasion                                                   28.99  \n",
       "108     Extraction, Quickblade Of Trembling Hands                    31.77  "
      ],
      "text/html": "<div>\n<style scoped>\n    .dataframe tbody tr th:only-of-type {\n        vertical-align: middle;\n    }\n\n    .dataframe tbody tr th {\n        vertical-align: top;\n    }\n\n    .dataframe thead th {\n        text-align: right;\n    }\n</style>\n<table border=\"1\" class=\"dataframe\">\n  <thead>\n    <tr style=\"text-align: right;\">\n      <th></th>\n      <th></th>\n      <th>Purchase Count</th>\n      <th>Item Price</th>\n      <th>Total Purchase Value</th>\n    </tr>\n    <tr>\n      <th>Item ID</th>\n      <th>Item Name</th>\n      <th></th>\n      <th></th>\n      <th></th>\n    </tr>\n  </thead>\n  <tbody>\n    <tr>\n      <th>92</th>\n      <th>Final Critic</th>\n      <td>13</td>\n      <td>4.614615</td>\n      <td>59.99</td>\n    </tr>\n    <tr>\n      <th>178</th>\n      <th>Oathbreaker, Last Hope of the Breaking Storm</th>\n      <td>12</td>\n      <td>4.230000</td>\n      <td>50.76</td>\n    </tr>\n    <tr>\n      <th>145</th>\n      <th>Fiery Glass Crusader</th>\n      <td>9</td>\n      <td>4.580000</td>\n      <td>41.22</td>\n    </tr>\n    <tr>\n      <th>132</th>\n      <th>Persuasion</th>\n      <td>9</td>\n      <td>3.221111</td>\n      <td>28.99</td>\n    </tr>\n    <tr>\n      <th>108</th>\n      <th>Extraction, Quickblade Of Trembling Hands</th>\n      <td>9</td>\n      <td>3.530000</td>\n      <td>31.77</td>\n    </tr>\n  </tbody>\n</table>\n</div>"
     },
     "metadata": {},
     "execution_count": 280
    }
   ],
   "source": [
    "#Create a summary data frame to hold the results\n",
    "#Sort the purchase count column in descending order\n",
    "Most_Popular_Summary = pd.DataFrame({\"Purchase Count\": Most_Popular_Purchase_Count, \"Item Price\": Most_Profitable_Item_Price, \"Total Purchase Value\": Most_Popular_Total_Purchase})\n",
    "Sorted_Most_Popular = Most_Popular_Summary.sort_values(\"Purchase Count\", ascending=False)\n",
    "Sorted_Most_Popular.head()"
   ]
  },
  {
   "source": [
    "## Most Profitable"
   ],
   "cell_type": "markdown",
   "metadata": {}
  },
  {
   "cell_type": "code",
   "execution_count": 281,
   "metadata": {},
   "outputs": [
    {
     "output_type": "execute_result",
     "data": {
      "text/plain": [
       "                                                      Purchase Count  \\\n",
       "Item ID Item Name                                                      \n",
       "92      Final Critic                                              13   \n",
       "178     Oathbreaker, Last Hope of the Breaking Storm              12   \n",
       "82      Nirvana                                                    9   \n",
       "145     Fiery Glass Crusader                                       9   \n",
       "103     Singed Scalpel                                             8   \n",
       "\n",
       "                                                      Item Price  \\\n",
       "Item ID Item Name                                                  \n",
       "92      Final Critic                                    4.614615   \n",
       "178     Oathbreaker, Last Hope of the Breaking Storm    4.230000   \n",
       "82      Nirvana                                         4.900000   \n",
       "145     Fiery Glass Crusader                            4.580000   \n",
       "103     Singed Scalpel                                  4.350000   \n",
       "\n",
       "                                                      Total Purchase Value  \n",
       "Item ID Item Name                                                           \n",
       "92      Final Critic                                                 59.99  \n",
       "178     Oathbreaker, Last Hope of the Breaking Storm                 50.76  \n",
       "82      Nirvana                                                      44.10  \n",
       "145     Fiery Glass Crusader                                         41.22  \n",
       "103     Singed Scalpel                                               34.80  "
      ],
      "text/html": "<div>\n<style scoped>\n    .dataframe tbody tr th:only-of-type {\n        vertical-align: middle;\n    }\n\n    .dataframe tbody tr th {\n        vertical-align: top;\n    }\n\n    .dataframe thead th {\n        text-align: right;\n    }\n</style>\n<table border=\"1\" class=\"dataframe\">\n  <thead>\n    <tr style=\"text-align: right;\">\n      <th></th>\n      <th></th>\n      <th>Purchase Count</th>\n      <th>Item Price</th>\n      <th>Total Purchase Value</th>\n    </tr>\n    <tr>\n      <th>Item ID</th>\n      <th>Item Name</th>\n      <th></th>\n      <th></th>\n      <th></th>\n    </tr>\n  </thead>\n  <tbody>\n    <tr>\n      <th>92</th>\n      <th>Final Critic</th>\n      <td>13</td>\n      <td>4.614615</td>\n      <td>59.99</td>\n    </tr>\n    <tr>\n      <th>178</th>\n      <th>Oathbreaker, Last Hope of the Breaking Storm</th>\n      <td>12</td>\n      <td>4.230000</td>\n      <td>50.76</td>\n    </tr>\n    <tr>\n      <th>82</th>\n      <th>Nirvana</th>\n      <td>9</td>\n      <td>4.900000</td>\n      <td>44.10</td>\n    </tr>\n    <tr>\n      <th>145</th>\n      <th>Fiery Glass Crusader</th>\n      <td>9</td>\n      <td>4.580000</td>\n      <td>41.22</td>\n    </tr>\n    <tr>\n      <th>103</th>\n      <th>Singed Scalpel</th>\n      <td>8</td>\n      <td>4.350000</td>\n      <td>34.80</td>\n    </tr>\n  </tbody>\n</table>\n</div>"
     },
     "metadata": {},
     "execution_count": 281
    }
   ],
   "source": [
    "#Sort the Most Popular table by total purchase value in descending order to find the most Profitable\n",
    "Most_Profitable_Summary = pd.DataFrame({\"Purchase Count\": Most_Popular_Purchase_Count, \"Item Price\": Most_Profitable_Item_Price, \"Total Purchase Value\": Most_Popular_Total_Purchase})\n",
    "Sorted_Most_Profitable = Most_Popular_Summary.sort_values(\"Total Purchase Value\", ascending=False)\n",
    "Sorted_Most_Profitable.head()\n"
   ]
  }
 ]
}